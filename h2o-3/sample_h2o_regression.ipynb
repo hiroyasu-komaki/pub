{
 "cells": [
  {
   "cell_type": "markdown",
   "metadata": {},
   "source": [
    "[SAMPLE CODE]\n",
    "# Pythonプログラムの基本：H2Oai OSSによる回帰モデル\n",
    "http://docs.h2o.ai/h2o/latest-stable/h2o-docs/downloading.html#install-in-python"
   ]
  },
  {
   "cell_type": "markdown",
   "metadata": {},
   "source": [
    "このサンプルコードでは、次のことができます\n",
    "- データセット（CSVファイル）の読み込み\n",
    "- H2Oaiによる機械学習モデルの生成\n",
    "- 機械学習モデルを使った予測\n",
    "- 機械学習モデルの保存"
   ]
  },
  {
   "cell_type": "code",
   "execution_count": 1,
   "metadata": {},
   "outputs": [
    {
     "name": "stderr",
     "output_type": "stream",
     "text": [
      "/Users/hiroyasu.komaki/.pyenv/versions/3.7.4/lib/python3.7/site-packages/pandas/compat/__init__.py:117: UserWarning: Could not import the lzma module. Your installed Python is incomplete. Attempting to use lzma compression will result in a RuntimeError.\n",
      "  warnings.warn(msg)\n"
     ]
    }
   ],
   "source": [
    "import pandas as pd\n",
    "import numpy as np\n",
    "\n",
    "import h2o\n",
    "from h2o.automl import H2OAutoML\n",
    "\n",
    "import matplotlib.pyplot as plt\n",
    "import japanize_matplotlib\n",
    "\n",
    "import seaborn as sns"
   ]
  },
  {
   "cell_type": "markdown",
   "metadata": {},
   "source": [
    "#### 環境PATH"
   ]
  },
  {
   "cell_type": "code",
   "execution_count": 2,
   "metadata": {},
   "outputs": [],
   "source": [
    "csv_path = 'csv/'\n",
    "model_path = 'model/'\n",
    "\n",
    "fname = 'dts_kisho'"
   ]
  },
  {
   "cell_type": "markdown",
   "metadata": {},
   "source": [
    "## データセットの読み込み"
   ]
  },
  {
   "cell_type": "code",
   "execution_count": 3,
   "metadata": {},
   "outputs": [
    {
     "data": {
      "text/plain": [
       "(647, 11)"
      ]
     },
     "execution_count": 3,
     "metadata": {},
     "output_type": "execute_result"
    }
   ],
   "source": [
    "# 訓練データ\n",
    "df_train = pd.read_csv(csv_path + fname +'.csv')\n",
    "df_train.shape"
   ]
  },
  {
   "cell_type": "code",
   "execution_count": 4,
   "metadata": {},
   "outputs": [
    {
     "data": {
      "text/html": [
       "<div>\n",
       "<style scoped>\n",
       "    .dataframe tbody tr th:only-of-type {\n",
       "        vertical-align: middle;\n",
       "    }\n",
       "\n",
       "    .dataframe tbody tr th {\n",
       "        vertical-align: top;\n",
       "    }\n",
       "\n",
       "    .dataframe thead th {\n",
       "        text-align: right;\n",
       "    }\n",
       "</style>\n",
       "<table border=\"1\" class=\"dataframe\">\n",
       "  <thead>\n",
       "    <tr style=\"text-align: right;\">\n",
       "      <th></th>\n",
       "      <th>city</th>\n",
       "      <th>hiduke8</th>\n",
       "      <th>hiduke</th>\n",
       "      <th>avg_temp_c</th>\n",
       "      <th>max_temp_c</th>\n",
       "      <th>min_temp_c</th>\n",
       "      <th>rain_mm</th>\n",
       "      <th>sunlight_hour</th>\n",
       "      <th>snow_cm</th>\n",
       "      <th>wind_ms</th>\n",
       "      <th>wind_direction</th>\n",
       "    </tr>\n",
       "  </thead>\n",
       "  <tbody>\n",
       "    <tr>\n",
       "      <th>0</th>\n",
       "      <td>東京都</td>\n",
       "      <td>20180101</td>\n",
       "      <td>2018-01-01</td>\n",
       "      <td>6.2</td>\n",
       "      <td>13.0</td>\n",
       "      <td>0.4</td>\n",
       "      <td>0.0</td>\n",
       "      <td>8.4</td>\n",
       "      <td>0.0</td>\n",
       "      <td>5.5</td>\n",
       "      <td>北西</td>\n",
       "    </tr>\n",
       "    <tr>\n",
       "      <th>1</th>\n",
       "      <td>東京都</td>\n",
       "      <td>20180102</td>\n",
       "      <td>2018-01-02</td>\n",
       "      <td>6.1</td>\n",
       "      <td>10.8</td>\n",
       "      <td>0.8</td>\n",
       "      <td>0.0</td>\n",
       "      <td>8.9</td>\n",
       "      <td>0.0</td>\n",
       "      <td>6.1</td>\n",
       "      <td>北西</td>\n",
       "    </tr>\n",
       "    <tr>\n",
       "      <th>2</th>\n",
       "      <td>東京都</td>\n",
       "      <td>20180103</td>\n",
       "      <td>2018-01-03</td>\n",
       "      <td>4.9</td>\n",
       "      <td>8.6</td>\n",
       "      <td>2.3</td>\n",
       "      <td>0.0</td>\n",
       "      <td>8.9</td>\n",
       "      <td>0.0</td>\n",
       "      <td>9.9</td>\n",
       "      <td>西北西</td>\n",
       "    </tr>\n",
       "    <tr>\n",
       "      <th>3</th>\n",
       "      <td>東京都</td>\n",
       "      <td>20180104</td>\n",
       "      <td>2018-01-04</td>\n",
       "      <td>4.7</td>\n",
       "      <td>9.6</td>\n",
       "      <td>0.0</td>\n",
       "      <td>0.0</td>\n",
       "      <td>8.8</td>\n",
       "      <td>0.0</td>\n",
       "      <td>5.4</td>\n",
       "      <td>北西</td>\n",
       "    </tr>\n",
       "    <tr>\n",
       "      <th>4</th>\n",
       "      <td>東京都</td>\n",
       "      <td>20180105</td>\n",
       "      <td>2018-01-05</td>\n",
       "      <td>3.7</td>\n",
       "      <td>6.3</td>\n",
       "      <td>0.8</td>\n",
       "      <td>0.0</td>\n",
       "      <td>0.1</td>\n",
       "      <td>0.0</td>\n",
       "      <td>3.8</td>\n",
       "      <td>北北西</td>\n",
       "    </tr>\n",
       "  </tbody>\n",
       "</table>\n",
       "</div>"
      ],
      "text/plain": [
       "  city   hiduke8      hiduke  avg_temp_c  max_temp_c  min_temp_c  rain_mm  \\\n",
       "0  東京都  20180101  2018-01-01         6.2        13.0         0.4      0.0   \n",
       "1  東京都  20180102  2018-01-02         6.1        10.8         0.8      0.0   \n",
       "2  東京都  20180103  2018-01-03         4.9         8.6         2.3      0.0   \n",
       "3  東京都  20180104  2018-01-04         4.7         9.6         0.0      0.0   \n",
       "4  東京都  20180105  2018-01-05         3.7         6.3         0.8      0.0   \n",
       "\n",
       "   sunlight_hour  snow_cm  wind_ms wind_direction  \n",
       "0            8.4      0.0      5.5             北西  \n",
       "1            8.9      0.0      6.1             北西  \n",
       "2            8.9      0.0      9.9            西北西  \n",
       "3            8.8      0.0      5.4             北西  \n",
       "4            0.1      0.0      3.8            北北西  "
      ]
     },
     "execution_count": 4,
     "metadata": {},
     "output_type": "execute_result"
    }
   ],
   "source": [
    "df_train.head()"
   ]
  },
  {
   "cell_type": "code",
   "execution_count": 5,
   "metadata": {},
   "outputs": [
    {
     "name": "stdout",
     "output_type": "stream",
     "text": [
      "2018-01-01\n",
      "2019-10-09\n"
     ]
    }
   ],
   "source": [
    "print(df_train['hiduke'].min())\n",
    "print(df_train['hiduke'].max())"
   ]
  },
  {
   "cell_type": "code",
   "execution_count": null,
   "metadata": {},
   "outputs": [],
   "source": []
  },
  {
   "cell_type": "markdown",
   "metadata": {},
   "source": [
    "## データ前処理"
   ]
  },
  {
   "cell_type": "code",
   "execution_count": 6,
   "metadata": {},
   "outputs": [],
   "source": [
    "# 　学習に合わせてデータ前処理を行う"
   ]
  },
  {
   "cell_type": "code",
   "execution_count": 7,
   "metadata": {},
   "outputs": [],
   "source": [
    "for index, row in df_train.iterrows():\n",
    "    s = str(row['hiduke8'])\n",
    "    df_train.at[index, 'hiduke6'] = s[0:6]"
   ]
  },
  {
   "cell_type": "code",
   "execution_count": null,
   "metadata": {},
   "outputs": [],
   "source": []
  },
  {
   "cell_type": "markdown",
   "metadata": {},
   "source": [
    "## 機械学習（AutoML）"
   ]
  },
  {
   "cell_type": "markdown",
   "metadata": {},
   "source": [
    "- [AutoML](https://docs.h2o.ai/h2o/latest-stable/h2o-docs/automl.html)\n",
    "- [AutoML Modelling](http://docs.h2o.ai/h2o/latest-stable/h2o-py/docs/modeling.html#h2oautoml)"
   ]
  },
  {
   "cell_type": "markdown",
   "metadata": {},
   "source": [
    "#### H2Oaiの起動"
   ]
  },
  {
   "cell_type": "code",
   "execution_count": 8,
   "metadata": {},
   "outputs": [
    {
     "name": "stdout",
     "output_type": "stream",
     "text": [
      "Checking whether there is an H2O instance running at http://localhost:54321 ..... not found.\n",
      "Attempting to start a local H2O server...\n",
      "  Java Version: openjdk version \"13.0.2\" 2020-01-14; OpenJDK Runtime Environment (build 13.0.2+8); OpenJDK 64-Bit Server VM (build 13.0.2+8, mixed mode, sharing)\n",
      "  Starting server from /Users/hiroyasu.komaki/.pyenv/versions/3.7.4/lib/python3.7/site-packages/h2o/backend/bin/h2o.jar\n",
      "  Ice root: /var/folders/cr/k_wktw_j2pv6tbndmc83x92r0000gp/T/tmpr18c5ynx\n",
      "  JVM stdout: /var/folders/cr/k_wktw_j2pv6tbndmc83x92r0000gp/T/tmpr18c5ynx/h2o_hiroyasu_komaki_started_from_python.out\n",
      "  JVM stderr: /var/folders/cr/k_wktw_j2pv6tbndmc83x92r0000gp/T/tmpr18c5ynx/h2o_hiroyasu_komaki_started_from_python.err\n",
      "  Server is running at http://127.0.0.1:54321\n",
      "Connecting to H2O server at http://127.0.0.1:54321 ... successful.\n"
     ]
    },
    {
     "data": {
      "text/html": [
       "<div style=\"overflow:auto\"><table style=\"width:50%\"><tr><td>H2O_cluster_uptime:</td>\n",
       "<td>01 secs</td></tr>\n",
       "<tr><td>H2O_cluster_timezone:</td>\n",
       "<td>Asia/Tokyo</td></tr>\n",
       "<tr><td>H2O_data_parsing_timezone:</td>\n",
       "<td>UTC</td></tr>\n",
       "<tr><td>H2O_cluster_version:</td>\n",
       "<td>3.30.0.1</td></tr>\n",
       "<tr><td>H2O_cluster_version_age:</td>\n",
       "<td>1 month and 13 days </td></tr>\n",
       "<tr><td>H2O_cluster_name:</td>\n",
       "<td>H2O_from_python_hiroyasu_komaki_gqym1d</td></tr>\n",
       "<tr><td>H2O_cluster_total_nodes:</td>\n",
       "<td>1</td></tr>\n",
       "<tr><td>H2O_cluster_free_memory:</td>\n",
       "<td>4 Gb</td></tr>\n",
       "<tr><td>H2O_cluster_total_cores:</td>\n",
       "<td>8</td></tr>\n",
       "<tr><td>H2O_cluster_allowed_cores:</td>\n",
       "<td>8</td></tr>\n",
       "<tr><td>H2O_cluster_status:</td>\n",
       "<td>accepting new members, healthy</td></tr>\n",
       "<tr><td>H2O_connection_url:</td>\n",
       "<td>http://127.0.0.1:54321</td></tr>\n",
       "<tr><td>H2O_connection_proxy:</td>\n",
       "<td>{\"http\": null, \"https\": null}</td></tr>\n",
       "<tr><td>H2O_internal_security:</td>\n",
       "<td>False</td></tr>\n",
       "<tr><td>H2O_API_Extensions:</td>\n",
       "<td>Amazon S3, XGBoost, Algos, AutoML, Core V3, TargetEncoder, Core V4</td></tr>\n",
       "<tr><td>Python_version:</td>\n",
       "<td>3.7.4 final</td></tr></table></div>"
      ],
      "text/plain": [
       "--------------------------  ------------------------------------------------------------------\n",
       "H2O_cluster_uptime:         01 secs\n",
       "H2O_cluster_timezone:       Asia/Tokyo\n",
       "H2O_data_parsing_timezone:  UTC\n",
       "H2O_cluster_version:        3.30.0.1\n",
       "H2O_cluster_version_age:    1 month and 13 days\n",
       "H2O_cluster_name:           H2O_from_python_hiroyasu_komaki_gqym1d\n",
       "H2O_cluster_total_nodes:    1\n",
       "H2O_cluster_free_memory:    4 Gb\n",
       "H2O_cluster_total_cores:    8\n",
       "H2O_cluster_allowed_cores:  8\n",
       "H2O_cluster_status:         accepting new members, healthy\n",
       "H2O_connection_url:         http://127.0.0.1:54321\n",
       "H2O_connection_proxy:       {\"http\": null, \"https\": null}\n",
       "H2O_internal_security:      False\n",
       "H2O_API_Extensions:         Amazon S3, XGBoost, Algos, AutoML, Core V3, TargetEncoder, Core V4\n",
       "Python_version:             3.7.4 final\n",
       "--------------------------  ------------------------------------------------------------------"
      ]
     },
     "metadata": {},
     "output_type": "display_data"
    }
   ],
   "source": [
    "h2o.init()"
   ]
  },
  {
   "cell_type": "markdown",
   "metadata": {},
   "source": [
    "#### （H2Oai用）Dataset生成"
   ]
  },
  {
   "cell_type": "code",
   "execution_count": 9,
   "metadata": {},
   "outputs": [
    {
     "name": "stdout",
     "output_type": "stream",
     "text": [
      "Parse progress: |█████████████████████████████████████████████████████████| 100%\n"
     ]
    },
    {
     "data": {
      "text/plain": [
       "(608, 12)"
      ]
     },
     "execution_count": 9,
     "metadata": {},
     "output_type": "execute_result"
    }
   ],
   "source": [
    "train = h2o.H2OFrame(df_train[df_train['hiduke'] < '2019-09-01'])\n",
    "train.shape"
   ]
  },
  {
   "cell_type": "code",
   "execution_count": 10,
   "metadata": {},
   "outputs": [
    {
     "name": "stdout",
     "output_type": "stream",
     "text": [
      "Parse progress: |█████████████████████████████████████████████████████████| 100%\n"
     ]
    },
    {
     "data": {
      "text/plain": [
       "(39, 12)"
      ]
     },
     "execution_count": 10,
     "metadata": {},
     "output_type": "execute_result"
    }
   ],
   "source": [
    "test = h2o.H2OFrame(df_train[df_train['hiduke'] >= '2019-09-01'])\n",
    "test.shape"
   ]
  },
  {
   "cell_type": "code",
   "execution_count": 11,
   "metadata": {},
   "outputs": [],
   "source": [
    "# Identify predictors and response\n",
    "x = train.columns\n",
    "y = \"max_temp_c\"\n",
    "x.remove(y)"
   ]
  },
  {
   "cell_type": "markdown",
   "metadata": {},
   "source": [
    "#### 機械学習モデルの生成"
   ]
  },
  {
   "cell_type": "code",
   "execution_count": 12,
   "metadata": {},
   "outputs": [
    {
     "name": "stdout",
     "output_type": "stream",
     "text": [
      "AutoML progress: |████████████████████████████████████████████████████████| 100%\n"
     ]
    }
   ],
   "source": [
    "aml_rg = H2OAutoML(max_models=10, seed=1)\n",
    "aml_rg.train(x = x, y = y, training_frame=train)"
   ]
  },
  {
   "cell_type": "code",
   "execution_count": 13,
   "metadata": {},
   "outputs": [
    {
     "data": {
      "text/html": [
       "<table>\n",
       "<thead>\n",
       "<tr><th>model_id                                           </th><th style=\"text-align: right;\">  mean_residual_deviance</th><th style=\"text-align: right;\">   rmse</th><th style=\"text-align: right;\">    mse</th><th style=\"text-align: right;\">     mae</th><th style=\"text-align: right;\">      rmsle</th></tr>\n",
       "</thead>\n",
       "<tbody>\n",
       "<tr><td>StackedEnsemble_BestOfFamily_AutoML_20200517_160748</td><td style=\"text-align: right;\">                 1.02629</td><td style=\"text-align: right;\">1.01306</td><td style=\"text-align: right;\">1.02629</td><td style=\"text-align: right;\">0.768605</td><td style=\"text-align: right;\">nan        </td></tr>\n",
       "<tr><td>StackedEnsemble_AllModels_AutoML_20200517_160748   </td><td style=\"text-align: right;\">                 1.02691</td><td style=\"text-align: right;\">1.01337</td><td style=\"text-align: right;\">1.02691</td><td style=\"text-align: right;\">0.771349</td><td style=\"text-align: right;\">  0.115988 </td></tr>\n",
       "<tr><td>GBM_1_AutoML_20200517_160748                       </td><td style=\"text-align: right;\">                 1.06715</td><td style=\"text-align: right;\">1.03303</td><td style=\"text-align: right;\">1.06715</td><td style=\"text-align: right;\">0.796227</td><td style=\"text-align: right;\">  0.0656359</td></tr>\n",
       "<tr><td>GBM_2_AutoML_20200517_160748                       </td><td style=\"text-align: right;\">                 1.2083 </td><td style=\"text-align: right;\">1.09923</td><td style=\"text-align: right;\">1.2083 </td><td style=\"text-align: right;\">0.848999</td><td style=\"text-align: right;\">  0.0686331</td></tr>\n",
       "<tr><td>GBM_4_AutoML_20200517_160748                       </td><td style=\"text-align: right;\">                 1.3654 </td><td style=\"text-align: right;\">1.1685 </td><td style=\"text-align: right;\">1.3654 </td><td style=\"text-align: right;\">0.90099 </td><td style=\"text-align: right;\">  0.071477 </td></tr>\n",
       "<tr><td>GBM_3_AutoML_20200517_160748                       </td><td style=\"text-align: right;\">                 1.42144</td><td style=\"text-align: right;\">1.19224</td><td style=\"text-align: right;\">1.42144</td><td style=\"text-align: right;\">0.918334</td><td style=\"text-align: right;\">  0.0733221</td></tr>\n",
       "<tr><td>XGBoost_2_AutoML_20200517_160748                   </td><td style=\"text-align: right;\">                 1.49129</td><td style=\"text-align: right;\">1.22118</td><td style=\"text-align: right;\">1.49129</td><td style=\"text-align: right;\">0.948649</td><td style=\"text-align: right;\">  0.0782381</td></tr>\n",
       "<tr><td>XGBoost_1_AutoML_20200517_160748                   </td><td style=\"text-align: right;\">                 1.49215</td><td style=\"text-align: right;\">1.22154</td><td style=\"text-align: right;\">1.49215</td><td style=\"text-align: right;\">0.968686</td><td style=\"text-align: right;\">  0.0763807</td></tr>\n",
       "<tr><td>XGBoost_3_AutoML_20200517_160748                   </td><td style=\"text-align: right;\">                 1.52146</td><td style=\"text-align: right;\">1.23347</td><td style=\"text-align: right;\">1.52146</td><td style=\"text-align: right;\">0.960917</td><td style=\"text-align: right;\">  0.0755721</td></tr>\n",
       "<tr><td>DRF_1_AutoML_20200517_160748                       </td><td style=\"text-align: right;\">                 1.69821</td><td style=\"text-align: right;\">1.30315</td><td style=\"text-align: right;\">1.69821</td><td style=\"text-align: right;\">0.988511</td><td style=\"text-align: right;\">  0.0865954</td></tr>\n",
       "</tbody>\n",
       "</table>"
      ]
     },
     "metadata": {},
     "output_type": "display_data"
    },
    {
     "data": {
      "text/plain": []
     },
     "execution_count": 13,
     "metadata": {},
     "output_type": "execute_result"
    }
   ],
   "source": [
    "# 学習結果の表示\n",
    "lb_rg = aml_rg.leaderboard\n",
    "lb_rg"
   ]
  },
  {
   "cell_type": "code",
   "execution_count": 14,
   "metadata": {},
   "outputs": [
    {
     "name": "stdout",
     "output_type": "stream",
     "text": [
      "StackedEnsemble_BestOfFamily_AutoML_20200517_160748\n"
     ]
    }
   ],
   "source": [
    "# 学習済みモデルの決定\n",
    "model = aml_rg.leader\n",
    "print(model.model_id)"
   ]
  },
  {
   "cell_type": "code",
   "execution_count": null,
   "metadata": {},
   "outputs": [],
   "source": []
  },
  {
   "cell_type": "markdown",
   "metadata": {},
   "source": [
    "## 学習済みモデルでの予測実行"
   ]
  },
  {
   "cell_type": "code",
   "execution_count": 15,
   "metadata": {},
   "outputs": [
    {
     "name": "stdout",
     "output_type": "stream",
     "text": [
      "stackedensemble prediction progress: |████████████████████████████████████| 100%\n"
     ]
    }
   ],
   "source": [
    "#prediction\n",
    "pred = model.predict(test)"
   ]
  },
  {
   "cell_type": "code",
   "execution_count": 16,
   "metadata": {},
   "outputs": [],
   "source": [
    "test['predict'] = pred['predict']"
   ]
  },
  {
   "cell_type": "code",
   "execution_count": 17,
   "metadata": {},
   "outputs": [
    {
     "data": {
      "text/plain": [
       "(647, 13)"
      ]
     },
     "execution_count": 17,
     "metadata": {},
     "output_type": "execute_result"
    }
   ],
   "source": [
    "train['predict'] = train['max_temp_c']\n",
    "df_result = train.rbind(test).as_data_frame()\n",
    "df_result.shape"
   ]
  },
  {
   "cell_type": "code",
   "execution_count": null,
   "metadata": {},
   "outputs": [],
   "source": []
  },
  {
   "cell_type": "markdown",
   "metadata": {},
   "source": [
    "## 予測結果の図示"
   ]
  },
  {
   "cell_type": "code",
   "execution_count": 18,
   "metadata": {},
   "outputs": [],
   "source": [
    "# Actual\n",
    "df_a = df_result.groupby(['hiduke6'])['max_temp_c'].max().reset_index()\n",
    "df_a = df_a.sort_values('hiduke6', ascending=True)"
   ]
  },
  {
   "cell_type": "code",
   "execution_count": 19,
   "metadata": {},
   "outputs": [],
   "source": [
    "# Predict\n",
    "df_b = df_result.groupby(['hiduke6'])['predict'].max().reset_index()\n",
    "df_b = df_b.sort_values('hiduke6', ascending=True)"
   ]
  },
  {
   "cell_type": "code",
   "execution_count": 20,
   "metadata": {},
   "outputs": [
    {
     "data": {
      "image/png": "[encoded data removed]",
      "text/plain": [
       "<Figure size 2880x720 with 1 Axes>"
      ]
     },
     "metadata": {
      "needs_background": "light"
     },
     "output_type": "display_data"
    }
   ],
   "source": [
    "fig = plt.figure(figsize=(40,10))\n",
    "fig.add_subplot(1,2,1)\n",
    "\n",
    "# 図表（一軸）\n",
    "ax1 = plt.gca()\n",
    "\n",
    "data_num = len(df_a)\n",
    "ax1.plot(df_b[\"predict\"], color = \"#F40009\", alpha = 1, marker=\"o\")\n",
    "ax1.plot(df_a[\"max_temp_c\"], color = \"0.8\", alpha = 1, marker=\"o\")\n",
    "\n",
    "ax1.set_xticks(range(data_num))\n",
    "ax1.set_xticklabels(df_a[\"hiduke6\"].tolist(), rotation=90)\n",
    "\n",
    "ax1.set_xlabel(\"month\")\n",
    "ax1.set_ylabel(\"max_temp_c\")\n",
    "\n",
    "ax1.set_ylim(10, 40)\n",
    "\n",
    "# 凡例\n",
    "ax1.legend(['最高気温（予測）'])\n",
    "\n",
    "# 図表を表示する\n",
    "ax1.set_title(\"SAMPLE:Regression model\")\n",
    "\n",
    "plt.show()"
   ]
  },
  {
   "cell_type": "code",
   "execution_count": null,
   "metadata": {},
   "outputs": [],
   "source": []
  },
  {
   "cell_type": "markdown",
   "metadata": {},
   "source": [
    "## 学習済みモデルの保存\n",
    "http://docs.h2o.ai/h2o/latest-stable/h2o-docs/save-and-load-model.html"
   ]
  },
  {
   "cell_type": "code",
   "execution_count": 21,
   "metadata": {},
   "outputs": [
    {
     "name": "stdout",
     "output_type": "stream",
     "text": [
      "/Users/hiroyasu.komaki/h2oai-bigdata-pilot/sample_code/h2oai/model/StackedEnsemble_BestOfFamily_AutoML_20200517_160748\n"
     ]
    }
   ],
   "source": [
    "# save the model\n",
    "model_path = h2o.save_model(model=model, path=model_path, force=True)\n",
    "print(model_path)"
   ]
  },
  {
   "cell_type": "code",
   "execution_count": null,
   "metadata": {},
   "outputs": [],
   "source": []
  }
 ],
 "metadata": {
  "kernelspec": {
   "display_name": "Python 3",
   "language": "python",
   "name": "python3"
  },
  "language_info": {
   "codemirror_mode": {
    "name": "ipython",
    "version": 3
   },
   "file_extension": ".py",
   "mimetype": "text/x-python",
   "name": "python",
   "nbconvert_exporter": "python",
   "pygments_lexer": "ipython3",
   "version": "3.7.4"
  }
 },
 "nbformat": 4,
 "nbformat_minor": 4
}
